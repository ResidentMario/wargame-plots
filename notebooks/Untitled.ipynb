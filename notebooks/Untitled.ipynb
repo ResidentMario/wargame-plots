{
 "cells": [
  {
   "cell_type": "code",
   "execution_count": 1,
   "metadata": {
    "collapsed": false
   },
   "outputs": [
    {
     "name": "stderr",
     "output_type": "stream",
     "text": [
      "/Users/Honors/anaconda/envs/plotting-tools/lib/python3.5/site-packages/IPython/core/interactiveshell.py:2717: DtypeWarning: Columns (2,12,27,42,43,48,63,77,78,90,110,113,117,118,130,150,153,283,284,298,318,321,325,326,340,360,363,367,368,382,402,405,409,410,422,442,445,449,450,464,484,487,491,492,504,524,527) have mixed types. Specify dtype option on import or set low_memory=False.\n",
      "  interactivity=interactivity, compiler=compiler, result=result)\n"
     ]
    }
   ],
   "source": [
    "import pandas as pd\n",
    "import numpy as np\n",
    "\n",
    "wargame = pd.read_csv(\"https://raw.githubusercontent.com/ResidentMario/wargame-data/master/data/510064564/final_data.csv\", index_col=0)\n",
    "\n",
    "%matplotlib inline"
   ]
  },
  {
   "cell_type": "markdown",
   "metadata": {},
   "source": [
    "Drop columns that were included accidentally."
   ]
  },
  {
   "cell_type": "code",
   "execution_count": 2,
   "metadata": {
    "collapsed": true
   },
   "outputs": [],
   "source": [
    "wargame = wargame.drop(['Salves', 'SalvoIsMainSalvo'], axis='columns')"
   ]
  },
  {
   "cell_type": "markdown",
   "metadata": {},
   "source": [
    "Drop columns for weapons > 3."
   ]
  },
  {
   "cell_type": "code",
   "execution_count": 5,
   "metadata": {
    "collapsed": true
   },
   "outputs": [],
   "source": [
    "def rmweapons(c):\n",
    "    if \"Weapon\" in c:\n",
    "        if any([str(n) in c for n in range(4, 14)]):\n",
    "            return False\n",
    "        else:\n",
    "            return True\n",
    "    else:\n",
    "        return True"
   ]
  },
  {
   "cell_type": "code",
   "execution_count": 11,
   "metadata": {
    "collapsed": false
   },
   "outputs": [],
   "source": [
    "wargame = wargame[wargame.columns[wargame.columns.map(rmweapons)]]"
   ]
  },
  {
   "cell_type": "markdown",
   "metadata": {},
   "source": [
    "Drop columns that are never relevant."
   ]
  },
  {
   "cell_type": "code",
   "execution_count": 239,
   "metadata": {
    "collapsed": false
   },
   "outputs": [],
   "source": [
    "test = wargame.copy()\n",
    "\n",
    "test.drop([\n",
    "    'AutoOrientation',\n",
    "    'ArmorRearSplashResistant',\n",
    "    'ArmorSidesSplashResistant',\n",
    "    'ArmorTopSplashResistant',\n",
    "    'AutoOrientation',\n",
    "    'ClassNameForDebug',\n",
    "    'FuelCapacity',\n",
    "    'HelicopterHoverAltitude',\n",
    "    'ID',\n",
    "    'MotherCountry',\n",
    "    'PorteeVision',\n",
    "    'ProductionTime',\n",
    "    'Year',\n",
    "    'UpgradeTo',\n",
    "    'Weapon1DisplayedAmmunition',\n",
    "    'Weapon1PositionOnCard',\n",
    "    'Weapon2DisplayedAmmunition',\n",
    "    'Weapon2PositionOnCard',\n",
    "    'Weapon3DisplayedAmmunition',\n",
    "    'Weapon3PositionOnCard',\n",
    "    # End pass 1\n",
    "    'Transporters',\n",
    "    'Decks',\n",
    "    'OpticalStrengthGround',\n",
    "    # End pass 2\n",
    "    'AirplaneMinimalAltitude',\n",
    "    'LateralSpeed',\n",
    "    'SuppressDamageRatioIfTransporterKilled',\n",
    "    'Training',\n",
    "    'UpgradeFrom',    \n",
    "    # End pass 3\n",
    "    'Weapon1DisplayedAmmunition', \n",
    "    'Weapon1Caliber',\n",
    "    'Weapon1CanSmoke',  # made an error in this column\n",
    "    'Weapon2DisplayedAmmunition', \n",
    "    'Weapon2Caliber',\n",
    "    'Weapon2CanSmoke',  # made an error in this column\n",
    "    'Weapon3DisplayedAmmunition', \n",
    "    'Weapon3Caliber',\n",
    "    'Weapon3CanSmoke',  # made an error in this column    \n",
    "    # End pass 4\n",
    "    'Weapon1MinimalCritProbability',\n",
    "    'Weapon2MinimalCritProbability',\n",
    "    'Weapon3MinimalCritProbability',\n",
    "    'Weapon1MinimalHitProbability',\n",
    "    'Weapon2MinimalHitProbability',\n",
    "    'Weapon3MinimalHitProbability',\n",
    "    'Weapon1MissileMaxAcceleration',\n",
    "    'Weapon2MissileMaxAcceleration',\n",
    "    'Weapon3MissileMaxAcceleration',\n",
    "    'Weapon1ProjectilesPerShot',\n",
    "    'Weapon2MissileMaxAcceleration',\n",
    "    'Weapon3MissileMaxAcceleration',\n",
    "    'Weapon1MissileTimeBetweenCorrections',\n",
    "    'Weapon2MissileTimeBetweenCorrections',\n",
    "    'Weapon3MissileTimeBetweenCorrections', \n",
    "    'Weapon1RadiusSplashPhysicalDamage',\n",
    "    'Weapon1RadiusSplashSuppressDamage',\n",
    "    'Weapon2RadiusSplashPhysicalDamage',\n",
    "    'Weapon2RadiusSplashSuppressDamage',   \n",
    "    'Weapon3RadiusSplashPhysicalDamage',\n",
    "    'Weapon3RadiusSplashSuppressDamage',\n",
    "    # End pass 5\n",
    "    'StunDamageRegen',\n",
    "    'StunDamageToGetStunned',\n",
    "    'SupplyPriority',\n",
    "    'Weapon1RangeGroundMinimum',\n",
    "    'Weapon2RangeGroundMinimum',\n",
    "    'Weapon3RangeGroundMinimum',\n",
    "    'Weapon1RangeHelicoptersMinimum',\n",
    "    'Weapon2RangeHelicoptersMinimum',\n",
    "    'Weapon3RangeHelicoptersMinimum',\n",
    "    'Weapon1RangeShipMinimum',\n",
    "    'Weapon2RangeShipMinimum',\n",
    "    'Weapon3RangeShipMinimum',\n",
    "    'Weapon1RangePlanesMinimum',\n",
    "    'Weapon2RangePlanesMinimum',\n",
    "    'Weapon3RangePlanesMinimum',\n",
    "    'Weapon1RangeMissilesMinimum',\n",
    "    'Weapon2RangeMissilesMinimum',\n",
    "    'Weapon3RangeMissilesMinimum',\n",
    "    'Weapon1CorrectedShotDispersionMultiplier',\n",
    "    'Weapon2CorrectedShotDispersionMultiplier',\n",
    "    'Weapon3CorrectedShotDispersionMultiplier',\n",
    "    'CyclicManoeuvrability',\n",
    "    'HelicopterDetectionRadius',\n",
    "    'GFactorLimit',\n",
    "    'IdentifyBaseProbability',\n",
    "    'Mass',\n",
    "    'MaxAcceleration',\n",
    "    'MaxDeceleration',\n",
    "    'MaxInclination',\n",
    "    'OpticalStrengthAntiradar',\n",
    "    'AirToAirHelicopterDetectionRadius',\n",
    "    'RotorArea',\n",
    "    'TimeHalfTurn',\n",
    "    'TorqueManoeuvrability',\n",
    "    'UpwardSpeed',\n",
    "    'Weapon1AimTime',\n",
    "    'Weapon2AimTime',\n",
    "    'Weapon3AimTime',\n",
    "    'Weapon1RayonPinned',\n",
    "    'Weapon2RayonPinned',\n",
    "    'Weapon3RayonPinned'\n",
    "], axis='columns', inplace=True)\n",
    "# Kept as an ID: Name, Tab, Mother Country\n",
    "# Kept as a per-weapon ID: Weapon<N>Name, Weapon<N>Type\n",
    "# Kept as target: Price"
   ]
  },
  {
   "cell_type": "markdown",
   "metadata": {},
   "source": [
    "Convert tags in the taglists to dummy variables for weapon tags."
   ]
  },
  {
   "cell_type": "code",
   "execution_count": 223,
   "metadata": {
    "collapsed": true
   },
   "outputs": [],
   "source": [
    "def tagify(taglist): return taglist.split(\"|\") if isinstance(taglist, str) else []"
   ]
  },
  {
   "cell_type": "code",
   "execution_count": 224,
   "metadata": {
    "collapsed": false
   },
   "outputs": [],
   "source": [
    "tags = np.unique(\n",
    "    (\n",
    "        np.concatenate(test['Weapon1Tags'].map(tagify).values).tolist() +\n",
    "        np.concatenate(test['Weapon2Tags'].map(tagify).values).tolist() +\n",
    "        np.concatenate(test['Weapon3Tags'].map(tagify).values).tolist()\n",
    "    )\n",
    ")"
   ]
  },
  {
   "cell_type": "code",
   "execution_count": 225,
   "metadata": {
    "collapsed": false
   },
   "outputs": [
    {
     "data": {
      "text/plain": [
       "array(['AL', 'AoE', 'CLUS', 'CORR', 'CQC', 'DEF', 'F&F', 'GUID', 'HEAT',\n",
       "       'IFC', 'KE', 'NPLM', 'RAD', 'SA', 'SEAD', 'SHIP', 'SMK', 'STAT'], \n",
       "      dtype='<U4')"
      ]
     },
     "execution_count": 225,
     "metadata": {},
     "output_type": "execute_result"
    }
   ],
   "source": [
    "tags"
   ]
  },
  {
   "cell_type": "markdown",
   "metadata": {},
   "source": [
    "First weapon..."
   ]
  },
  {
   "cell_type": "code",
   "execution_count": 240,
   "metadata": {
    "collapsed": false
   },
   "outputs": [],
   "source": [
    "tagdim = []\n",
    "for tag in tags:\n",
    "    tagdim.append(list(map(lambda tags: tag in tags, test['Weapon1Tags'].map(tagify).values)))\n",
    "    \n",
    "tagdim = pd.DataFrame(tagdim).T\n",
    "tagdim.columns = tags\n",
    "tagdim = tagdim.astype(int)\n",
    "tagdim = tagdim.add_prefix(\"Weapon1\")"
   ]
  },
  {
   "cell_type": "code",
   "execution_count": 241,
   "metadata": {
    "collapsed": false
   },
   "outputs": [],
   "source": [
    "test = test.reset_index(drop=True).join(tagdim)"
   ]
  },
  {
   "cell_type": "markdown",
   "metadata": {},
   "source": [
    "Remaining two."
   ]
  },
  {
   "cell_type": "code",
   "execution_count": 242,
   "metadata": {
    "collapsed": true
   },
   "outputs": [],
   "source": [
    "tagdim = []\n",
    "for tag in tags:\n",
    "    tagdim.append(list(map(lambda tags: tag in tags, test['Weapon2Tags'].map(tagify).values)))\n",
    "    \n",
    "tagdim = pd.DataFrame(tagdim).T\n",
    "tagdim.columns = tags\n",
    "tagdim = tagdim.astype(int)\n",
    "tagdim = tagdim.add_prefix(\"Weapon2\")\n",
    "test = test.join(tagdim)\n",
    "\n",
    "tagdim = []\n",
    "for tag in tags:\n",
    "    tagdim.append(list(map(lambda tags: tag in tags, test['Weapon3Tags'].map(tagify).values)))\n",
    "    \n",
    "tagdim = pd.DataFrame(tagdim).T\n",
    "tagdim.columns = tags\n",
    "tagdim = tagdim.astype(int)\n",
    "tagdim = tagdim.add_prefix(\"Weapon3\")\n",
    "test = test.join(tagdim)\n",
    "\n",
    "del tagdim"
   ]
  },
  {
   "cell_type": "markdown",
   "metadata": {},
   "source": [
    "Now drop the raw tags."
   ]
  },
  {
   "cell_type": "code",
   "execution_count": 243,
   "metadata": {
    "collapsed": false
   },
   "outputs": [],
   "source": [
    "test = test.drop(['Weapon1Tags', 'Weapon2Tags', 'Weapon3Tags'], axis='columns')"
   ]
  },
  {
   "cell_type": "code",
   "execution_count": 250,
   "metadata": {
    "collapsed": false
   },
   "outputs": [],
   "source": [
    "# test.query('Tab == \"TNK\"')[['Name', 'Weapon1NumberOfSalvos', 'Weapon1ShotsPerSalvo', 'Weapon1AL']]"
   ]
  },
  {
   "cell_type": "markdown",
   "metadata": {},
   "source": [
    "`Weapon<N>ShotsPerSalvo` is sometimes relevant, `Weapon1NumberofSalvos` never is. Calculating a rate of fire is complicated...we will simplify things by having two attributes: `AL` if there's an autoloader, and a computed `RPM` which assumes the unit is not in any state of panic."
   ]
  },
  {
   "cell_type": "code",
   "execution_count": 265,
   "metadata": {
    "collapsed": false
   },
   "outputs": [
    {
     "data": {
      "text/plain": [
       "2000    F-16A FIGHTING FALCON\n",
       "2001           F-16A BLOCK 15\n",
       "2002              TORNADO ECR\n",
       "2003              TORNADO IDS\n",
       "2004              TORNADO MFG\n",
       "Name: Name, dtype: object"
      ]
     },
     "execution_count": 265,
     "metadata": {},
     "output_type": "execute_result"
    }
   ],
   "source": [
    "wargame['Name'].tail()"
   ]
  },
  {
   "cell_type": "code",
   "execution_count": 282,
   "metadata": {
    "collapsed": true
   },
   "outputs": [],
   "source": [
    "def rpm(srs):\n",
    "    r = srs['Weapon1TimeBetweenShots'] * srs['Weapon1ShotsPerSalvo'] * wargame['Weapon1NumberOfSalvos']\n",
    "    r = r + wargame['Weapon1NumberOfSalvos'] * wargame['Weapon1TimeBetweenSalvos']\n",
    "    r = 60 / r\n",
    "    return r"
   ]
  },
  {
   "cell_type": "code",
   "execution_count": 291,
   "metadata": {
    "collapsed": false
   },
   "outputs": [
    {
     "ename": "TypeError",
     "evalue": "'DataFrame' object is not callable",
     "output_type": "error",
     "traceback": [
      "\u001b[0;31m---------------------------------------------------------------------------\u001b[0m",
      "\u001b[0;31mTypeError\u001b[0m                                 Traceback (most recent call last)",
      "\u001b[0;32m<ipython-input-291-4e362b2f75fc>\u001b[0m in \u001b[0;36m<module>\u001b[0;34m()\u001b[0m\n\u001b[0;32m----> 1\u001b[0;31m \u001b[0mrpm\u001b[0m\u001b[0;34m(\u001b[0m\u001b[0mtest\u001b[0m\u001b[0;34m.\u001b[0m\u001b[0msample\u001b[0m\u001b[0;34m(\u001b[0m\u001b[0;36m1\u001b[0m\u001b[0;34m)\u001b[0m\u001b[0;34m.\u001b[0m\u001b[0miloc\u001b[0m\u001b[0;34m[\u001b[0m\u001b[0;36m0\u001b[0m\u001b[0;34m]\u001b[0m\u001b[0;34m)\u001b[0m\u001b[0;34m\u001b[0m\u001b[0m\n\u001b[0m",
      "\u001b[0;31mTypeError\u001b[0m: 'DataFrame' object is not callable"
     ]
    }
   ],
   "source": [
    "rpm(test.sample(1).iloc[0])"
   ]
  },
  {
   "cell_type": "code",
   "execution_count": 286,
   "metadata": {
    "collapsed": false
   },
   "outputs": [
    {
     "ename": "TypeError",
     "evalue": "(\"'DataFrame' object is not callable\", 'occurred at index Amphibious')",
     "output_type": "error",
     "traceback": [
      "\u001b[0;31m---------------------------------------------------------------------------\u001b[0m",
      "\u001b[0;31mTypeError\u001b[0m                                 Traceback (most recent call last)",
      "\u001b[0;32m<ipython-input-286-18885f55b079>\u001b[0m in \u001b[0;36m<module>\u001b[0;34m()\u001b[0m\n\u001b[0;32m----> 1\u001b[0;31m \u001b[0mrpm\u001b[0m \u001b[0;34m=\u001b[0m \u001b[0mtest\u001b[0m\u001b[0;34m.\u001b[0m\u001b[0mapply\u001b[0m\u001b[0;34m(\u001b[0m\u001b[0mrpm\u001b[0m\u001b[0;34m)\u001b[0m\u001b[0;34m\u001b[0m\u001b[0m\n\u001b[0m",
      "\u001b[0;32m/Users/Honors/anaconda/envs/plotting-tools/lib/python3.5/site-packages/pandas/core/frame.py\u001b[0m in \u001b[0;36mapply\u001b[0;34m(self, func, axis, broadcast, raw, reduce, args, **kwds)\u001b[0m\n\u001b[1;32m   4150\u001b[0m                     \u001b[0;32mif\u001b[0m \u001b[0mreduce\u001b[0m \u001b[0;32mis\u001b[0m \u001b[0;32mNone\u001b[0m\u001b[0;34m:\u001b[0m\u001b[0;34m\u001b[0m\u001b[0m\n\u001b[1;32m   4151\u001b[0m                         \u001b[0mreduce\u001b[0m \u001b[0;34m=\u001b[0m \u001b[0;32mTrue\u001b[0m\u001b[0;34m\u001b[0m\u001b[0m\n\u001b[0;32m-> 4152\u001b[0;31m                     \u001b[0;32mreturn\u001b[0m \u001b[0mself\u001b[0m\u001b[0;34m.\u001b[0m\u001b[0m_apply_standard\u001b[0m\u001b[0;34m(\u001b[0m\u001b[0mf\u001b[0m\u001b[0;34m,\u001b[0m \u001b[0maxis\u001b[0m\u001b[0;34m,\u001b[0m \u001b[0mreduce\u001b[0m\u001b[0;34m=\u001b[0m\u001b[0mreduce\u001b[0m\u001b[0;34m)\u001b[0m\u001b[0;34m\u001b[0m\u001b[0m\n\u001b[0m\u001b[1;32m   4153\u001b[0m             \u001b[0;32melse\u001b[0m\u001b[0;34m:\u001b[0m\u001b[0;34m\u001b[0m\u001b[0m\n\u001b[1;32m   4154\u001b[0m                 \u001b[0;32mreturn\u001b[0m \u001b[0mself\u001b[0m\u001b[0;34m.\u001b[0m\u001b[0m_apply_broadcast\u001b[0m\u001b[0;34m(\u001b[0m\u001b[0mf\u001b[0m\u001b[0;34m,\u001b[0m \u001b[0maxis\u001b[0m\u001b[0;34m)\u001b[0m\u001b[0;34m\u001b[0m\u001b[0m\n",
      "\u001b[0;32m/Users/Honors/anaconda/envs/plotting-tools/lib/python3.5/site-packages/pandas/core/frame.py\u001b[0m in \u001b[0;36m_apply_standard\u001b[0;34m(self, func, axis, ignore_failures, reduce)\u001b[0m\n\u001b[1;32m   4246\u001b[0m             \u001b[0;32mtry\u001b[0m\u001b[0;34m:\u001b[0m\u001b[0;34m\u001b[0m\u001b[0m\n\u001b[1;32m   4247\u001b[0m                 \u001b[0;32mfor\u001b[0m \u001b[0mi\u001b[0m\u001b[0;34m,\u001b[0m \u001b[0mv\u001b[0m \u001b[0;32min\u001b[0m \u001b[0menumerate\u001b[0m\u001b[0;34m(\u001b[0m\u001b[0mseries_gen\u001b[0m\u001b[0;34m)\u001b[0m\u001b[0;34m:\u001b[0m\u001b[0;34m\u001b[0m\u001b[0m\n\u001b[0;32m-> 4248\u001b[0;31m                     \u001b[0mresults\u001b[0m\u001b[0;34m[\u001b[0m\u001b[0mi\u001b[0m\u001b[0;34m]\u001b[0m \u001b[0;34m=\u001b[0m \u001b[0mfunc\u001b[0m\u001b[0;34m(\u001b[0m\u001b[0mv\u001b[0m\u001b[0;34m)\u001b[0m\u001b[0;34m\u001b[0m\u001b[0m\n\u001b[0m\u001b[1;32m   4249\u001b[0m                     \u001b[0mkeys\u001b[0m\u001b[0;34m.\u001b[0m\u001b[0mappend\u001b[0m\u001b[0;34m(\u001b[0m\u001b[0mv\u001b[0m\u001b[0;34m.\u001b[0m\u001b[0mname\u001b[0m\u001b[0;34m)\u001b[0m\u001b[0;34m\u001b[0m\u001b[0m\n\u001b[1;32m   4250\u001b[0m             \u001b[0;32mexcept\u001b[0m \u001b[0mException\u001b[0m \u001b[0;32mas\u001b[0m \u001b[0me\u001b[0m\u001b[0;34m:\u001b[0m\u001b[0;34m\u001b[0m\u001b[0m\n",
      "\u001b[0;31mTypeError\u001b[0m: (\"'DataFrame' object is not callable\", 'occurred at index Amphibious')"
     ]
    }
   ],
   "source": [
    "rpm = test.apply(rpm, axis='columns')"
   ]
  },
  {
   "cell_type": "code",
   "execution_count": 279,
   "metadata": {
    "collapsed": true
   },
   "outputs": [],
   "source": [
    "test['RPM'] = rpm"
   ]
  },
  {
   "cell_type": "code",
   "execution_count": 280,
   "metadata": {
    "collapsed": false
   },
   "outputs": [
    {
     "name": "stderr",
     "output_type": "stream",
     "text": [
      "/Users/Honors/anaconda/envs/plotting-tools/lib/python3.5/site-packages/ipykernel/__main__.py:1: UserWarning: Boolean Series key will be reindexed to match DataFrame index.\n",
      "  if __name__ == '__main__':\n"
     ]
    },
    {
     "data": {
      "text/html": [
       "<div>\n",
       "<table border=\"1\" class=\"dataframe\">\n",
       "  <thead>\n",
       "    <tr style=\"text-align: right;\">\n",
       "      <th></th>\n",
       "      <th>Name</th>\n",
       "      <th>RPM</th>\n",
       "    </tr>\n",
       "  </thead>\n",
       "  <tbody>\n",
       "    <tr>\n",
       "      <th>1186</th>\n",
       "      <td>T-80</td>\n",
       "      <td>1.066667</td>\n",
       "    </tr>\n",
       "    <tr>\n",
       "      <th>1187</th>\n",
       "      <td>T-80A</td>\n",
       "      <td>1.066667</td>\n",
       "    </tr>\n",
       "    <tr>\n",
       "      <th>1188</th>\n",
       "      <td>T-80B</td>\n",
       "      <td>1.066667</td>\n",
       "    </tr>\n",
       "    <tr>\n",
       "      <th>1189</th>\n",
       "      <td>T-80BV</td>\n",
       "      <td>1.066667</td>\n",
       "    </tr>\n",
       "    <tr>\n",
       "      <th>1190</th>\n",
       "      <td>T-80U</td>\n",
       "      <td>1.377410</td>\n",
       "    </tr>\n",
       "    <tr>\n",
       "      <th>1191</th>\n",
       "      <td>T-80UM</td>\n",
       "      <td>1.066667</td>\n",
       "    </tr>\n",
       "  </tbody>\n",
       "</table>\n",
       "</div>"
      ],
      "text/plain": [
       "        Name       RPM\n",
       "1186    T-80  1.066667\n",
       "1187   T-80A  1.066667\n",
       "1188   T-80B  1.066667\n",
       "1189  T-80BV  1.066667\n",
       "1190   T-80U  1.377410\n",
       "1191  T-80UM  1.066667"
      ]
     },
     "execution_count": 280,
     "metadata": {},
     "output_type": "execute_result"
    }
   ],
   "source": [
    "test.query('Tab == \"TNK\"')[['Name', 'RPM']].pipe(lambda df: df[test['Name'].map(lambda n: 'T-80' in n)])"
   ]
  },
  {
   "cell_type": "code",
   "execution_count": 202,
   "metadata": {
    "collapsed": false
   },
   "outputs": [],
   "source": [
    "tanks = test.copy()\n",
    "tanks = tanks.drop([\n",
    "    'ArmorFrontSplashResistant',\n",
    "    'CIWS',\n",
    "    'CyclicManoeuvrability',\n",
    "    'HelicopterDetectionRadius',\n",
    "    'AirplaneFlyingAltitude',\n",
    "    'GFactorLimit',\n",
    "    'HelicopterFlyingAltitude',\n",
    "    'IdentifyBaseProbability',\n",
    "    'IsCommandUnit',\n",
    "    'IsPrototype',\n",
    "    'IsShip',\n",
    "    'IsTransporter',\n",
    "    'Mass',\n",
    "    'MaxInclination',\n",
    "    'MovementType',\n",
    "    'OpticalStrengthAir',\n",
    "    'OpticalStrengthAntiradar',\n",
    "    'AirToAirHelicopterDetectionRadius',\n",
    "    'RotorArea',\n",
    "    'Sailing',\n",
    "    'StunDamageToGetStunned',\n",
    "    'StunDamageRegen',\n",
    "    'SupplyCapacity',\n",
    "    'SupplyPriority',\n",
    "    'SuppressionCeiling',\n",
    "    'TimeBetweenEachIdentifyRoll',\n",
    "    'TorqueManoeuvrability',\n",
    "    'UpwardSpeed',\n",
    "    'Weapon1AngleDispersion',\n",
    "    'Weapon1CorrectedShotDispersionMultiplier',\n",
    "    'Weapon1DispersionAtMaxRange',\n",
    "    'Weapon1DispersionAtMinRange',\n",
    "    'Weapon1FireTriggeringProbability',\n",
    "    'Weapon1RangeShip',\n",
    "    'Weapon1RangeShipMinimum',\n",
    "    'Weapon1RangeMissiles',\n",
    "    'Weapon1RangeMissilesMinimum',\n",
    "    'Weapon1AngleDispersion',\n",
    "    'Weapon1Noise',\n",
    "    'Weapon2CorrectedShotDispersionMultiplier',\n",
    "    'Weapon2DispersionAtMaxRange',\n",
    "    'Weapon2DispersionAtMinRange',\n",
    "    'Weapon2FireTriggeringProbability',\n",
    "    'Weapon2RangeShip',\n",
    "    'Weapon2RangeShipMinimum',\n",
    "    'Weapon2RangeMissiles',\n",
    "    'Weapon2RangeMissilesMinimum',\n",
    "    'Weapon2Noise',\n",
    "    'Weapon3AngleDispersion',\n",
    "    'Weapon3CorrectedShotDispersionMultiplier',\n",
    "    'Weapon3DispersionAtMaxRange',\n",
    "    'Weapon3DispersionAtMinRange',\n",
    "    'Weapon3FireTriggeringProbability',\n",
    "    'Weapon3RangeShip',\n",
    "    'Weapon3RangeShipMinimum',\n",
    "    'Weapon3RangeMissiles',\n",
    "    'Weapon3RangeMissilesMinimum',\n",
    "    'Weapon3Noise',\n",
    "    # End pass 1\n",
    "    'ECM',\n",
    "    'Weapon1AimTime',\n",
    "    'Weapon2AimTime',\n",
    "    'Weapon3AimTime',\n",
    "], axis='columns')"
   ]
  },
  {
   "cell_type": "code",
   "execution_count": 204,
   "metadata": {
    "collapsed": false,
    "scrolled": true
   },
   "outputs": [],
   "source": [
    "# list(tanks.columns)"
   ]
  },
  {
   "cell_type": "code",
   "execution_count": null,
   "metadata": {
    "collapsed": true
   },
   "outputs": [],
   "source": []
  }
 ],
 "metadata": {
  "kernelspec": {
   "display_name": "Python 3",
   "language": "python",
   "name": "python3"
  },
  "language_info": {
   "codemirror_mode": {
    "name": "ipython",
    "version": 3
   },
   "file_extension": ".py",
   "mimetype": "text/x-python",
   "name": "python",
   "nbconvert_exporter": "python",
   "pygments_lexer": "ipython3",
   "version": "3.5.3"
  }
 },
 "nbformat": 4,
 "nbformat_minor": 2
}
